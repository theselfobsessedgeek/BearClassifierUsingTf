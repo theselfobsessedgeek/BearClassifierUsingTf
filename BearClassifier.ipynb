{
  "nbformat": 4,
  "nbformat_minor": 0,
  "metadata": {
    "colab": {
      "name": "BearClassifier.ipynb",
      "provenance": [],
      "collapsed_sections": [],
      "mount_file_id": "140Af36Xp3S8l54ZBWKVhEZYnakaJ7MvN",
      "authorship_tag": "ABX9TyNdxOGvHSe0pyvuhtdhYT4O",
      "include_colab_link": true
    },
    "kernelspec": {
      "name": "python3",
      "display_name": "Python 3"
    },
    "language_info": {
      "name": "python"
    }
  },
  "cells": [
    {
      "cell_type": "markdown",
      "metadata": {
        "id": "view-in-github",
        "colab_type": "text"
      },
      "source": [
        "<a href=\"https://colab.research.google.com/github/theselfobsessedgeek/BearClassifierUsingTf/blob/main/BearClassifier.ipynb\" target=\"_parent\"><img src=\"https://colab.research.google.com/assets/colab-badge.svg\" alt=\"Open In Colab\"/></a>"
      ]
    },
    {
      "cell_type": "code",
      "metadata": {
        "id": "gmImhHE3X92L"
      },
      "source": [
        "import tensorflow as tf\n",
        "import numpy as np \n",
        "import pandas as pd\n",
        "from tensorflow import keras\n",
        "import matplotlib.pyplot as plt\n",
        "from keras.preprocessing import image   \n",
        "from tensorflow.keras import datasets,models,layers"
      ],
      "execution_count": 129,
      "outputs": []
    },
    {
      "cell_type": "code",
      "metadata": {
        "colab": {
          "base_uri": "https://localhost:8080/"
        },
        "id": "9O5qzVtTySck",
        "outputId": "3cbe507f-57e9-476b-c6c2-40629e2c519b"
      },
      "source": [
        "!pip install Pillow\n"
      ],
      "execution_count": 58,
      "outputs": [
        {
          "output_type": "stream",
          "name": "stdout",
          "text": [
            "Requirement already satisfied: Pillow in /usr/local/lib/python3.7/dist-packages (7.1.2)\n"
          ]
        }
      ]
    },
    {
      "cell_type": "code",
      "metadata": {
        "colab": {
          "base_uri": "https://localhost:8080/"
        },
        "id": "sSd0OtJv0dHV",
        "outputId": "80b5c2ce-06dd-43fc-c698-7f3f35dc83f3"
      },
      "source": [
        "import os\n",
        "import re\n",
        "from PIL import Image\n",
        "\n",
        "# if 'grizzly_pngs' not in os.listdir('/content/drive/MyDrive/bears/black/'):\n",
        "#     os.mkdir('/content/drive/MyDrive/bears/black_pngs')\n",
        "\n",
        "for i in os.listdir('/content/drive/MyDrive/bears/teddy/'):\n",
        "    name = re.findall('(.+)\\.',i)\n",
        "    print(name[0])\n",
        "    img = Image.open('/content/drive/MyDrive/bears/teddy/'+i)\n",
        "    img.save('./pngs/'+name[0]+'.png','png')\n",
        "\n",
        "print('All done!')"
      ],
      "execution_count": 75,
      "outputs": [
        {
          "output_type": "stream",
          "name": "stdout",
          "text": [
            "00000020\n",
            "00000035\n",
            "00000105\n",
            "00000121\n",
            "00000123\n",
            "00000016\n",
            "00000134\n",
            "00000051\n",
            "00000071\n",
            "00000112\n",
            "00000045\n",
            "00000004\n",
            "00000149\n",
            "00000001\n",
            "00000010\n",
            "00000075\n",
            "00000038\n",
            "00000031\n",
            "00000131\n",
            "00000100\n",
            "00000094\n",
            "00000128\n",
            "00000052\n",
            "00000046\n",
            "00000124\n",
            "00000014\n",
            "00000083\n",
            "00000084\n",
            "00000074\n",
            "00000018\n",
            "00000106\n",
            "00000054\n",
            "00000049\n",
            "00000059\n",
            "00000138\n",
            "00000139\n",
            "00000067\n",
            "00000130\n",
            "00000047\n",
            "00000140\n",
            "00000064\n",
            "00000092\n",
            "00000126\n",
            "00000029\n",
            "00000028\n",
            "00000032\n",
            "00000003\n",
            "00000097\n",
            "00000146\n",
            "00000116\n",
            "00000135\n",
            "00000088\n",
            "00000021\n",
            "00000002\n",
            "00000082\n",
            "00000096\n",
            "00000043\n",
            "00000027\n",
            "00000119\n",
            "00000073\n",
            "00000024\n",
            "00000142\n",
            "00000058\n",
            "00000005\n",
            "00000114\n",
            "00000017\n",
            "00000087\n",
            "00000012\n",
            "00000009\n",
            "00000136\n",
            "00000107\n",
            "00000015\n",
            "00000040\n",
            "00000050\n",
            "00000141\n",
            "00000089\n",
            "00000077\n",
            "00000037\n",
            "00000069\n",
            "00000085\n",
            "00000070\n",
            "00000129\n",
            "00000055\n",
            "00000086\n",
            "00000066\n",
            "00000006\n",
            "00000008\n",
            "00000068\n",
            "00000026\n",
            "00000011\n",
            "00000115\n",
            "00000104\n",
            "00000019\n",
            "00000108\n",
            "00000148\n",
            "00000099\n",
            "00000120\n",
            "00000079\n",
            "00000076\n",
            "00000132\n",
            "00000102\n",
            "00000061\n",
            "00000098\n",
            "00000056\n",
            "00000033\n",
            "00000111\n",
            "00000044\n",
            "00000022\n",
            "00000109\n",
            "00000042\n",
            "00000117\n",
            "00000048\n",
            "00000133\n",
            "00000122\n",
            "00000000\n",
            "00000039\n",
            "00000103\n",
            "00000091\n",
            "00000053\n",
            "00000110\n",
            "00000143\n",
            "00000023\n",
            "00000137\n",
            "00000145\n",
            "00000090\n",
            "00000118\n",
            "00000013\n",
            "00000147\n",
            "00000080\n",
            "00000065\n",
            "00000007\n",
            "00000072\n",
            "00000025\n",
            "00000125\n",
            "00000034\n",
            "All done!\n"
          ]
        }
      ]
    },
    {
      "cell_type": "code",
      "metadata": {
        "id": "PFdUOdmGkpAS"
      },
      "source": [
        "img_height = 128\n",
        "img_width = 128\n",
        "batch_size = 8"
      ],
      "execution_count": 92,
      "outputs": []
    },
    {
      "cell_type": "code",
      "metadata": {
        "colab": {
          "base_uri": "https://localhost:8080/"
        },
        "id": "dMiEhIqVkp9e",
        "outputId": "d934906a-e812-473e-c35d-f9b15553542e"
      },
      "source": [
        "ds_train = tf.keras.preprocessing.image_dataset_from_directory(\n",
        "    \"/content/drive/MyDrive/data\",\n",
        "    labels=\"inferred\",\n",
        "    label_mode=\"int\",\n",
        "    # class_names=['0', '1', '2', '3', ...]\n",
        "    color_mode=\"rgb\",\n",
        "    batch_size=batch_size,\n",
        "    image_size=(img_height, img_width),  # reshape if not in this size\n",
        "    shuffle=True,\n",
        "    seed=123,\n",
        "    validation_split=0.4,\n",
        "    subset=\"training\",\n",
        ")"
      ],
      "execution_count": 93,
      "outputs": [
        {
          "output_type": "stream",
          "name": "stdout",
          "text": [
            "Found 409 files belonging to 3 classes.\n",
            "Using 246 files for training.\n"
          ]
        }
      ]
    },
    {
      "cell_type": "code",
      "metadata": {
        "colab": {
          "base_uri": "https://localhost:8080/"
        },
        "id": "5K4k0GZrlds-",
        "outputId": "8754e218-5163-49dc-b0e8-3e3c2192f831"
      },
      "source": [
        "ds_validation = tf.keras.preprocessing.image_dataset_from_directory(\n",
        "    \"/content/drive/MyDrive/data\",\n",
        "    labels=\"inferred\",\n",
        "    label_mode=\"int\",\n",
        "    # class_names=['0', '1', '2', '3', ...]\n",
        "    color_mode=\"rgb\",\n",
        "    batch_size=batch_size,\n",
        "    image_size=(img_height, img_width),  # reshape if not in this size\n",
        "    shuffle=True,\n",
        "    seed=123,\n",
        "    validation_split=0.1,\n",
        "    subset=\"validation\",\n",
        ")"
      ],
      "execution_count": 94,
      "outputs": [
        {
          "output_type": "stream",
          "name": "stdout",
          "text": [
            "Found 409 files belonging to 3 classes.\n",
            "Using 40 files for validation.\n"
          ]
        }
      ]
    },
    {
      "cell_type": "code",
      "metadata": {
        "colab": {
          "base_uri": "https://localhost:8080/",
          "height": 775
        },
        "id": "AuS37GAZR8Lw",
        "outputId": "14eefe4b-548d-45ce-94f5-c4c0e113414a"
      },
      "source": [
        "for images, labels in ds_train.take(1):\n",
        "    for i in range(9):\n",
        "        ax = plt.subplot(3, 3, i + 1)\n",
        "        plt.imshow(images[i].numpy().)\n",
        "        plt.title(int(labels[i]))\n",
        "        plt.axis(\"off\")"
      ],
      "execution_count": 124,
      "outputs": [
        {
          "output_type": "stream",
          "name": "stderr",
          "text": [
            "Clipping input data to the valid range for imshow with RGB data ([0..1] for floats or [0..255] for integers).\n",
            "Clipping input data to the valid range for imshow with RGB data ([0..1] for floats or [0..255] for integers).\n",
            "Clipping input data to the valid range for imshow with RGB data ([0..1] for floats or [0..255] for integers).\n",
            "Clipping input data to the valid range for imshow with RGB data ([0..1] for floats or [0..255] for integers).\n",
            "Clipping input data to the valid range for imshow with RGB data ([0..1] for floats or [0..255] for integers).\n",
            "Clipping input data to the valid range for imshow with RGB data ([0..1] for floats or [0..255] for integers).\n",
            "Clipping input data to the valid range for imshow with RGB data ([0..1] for floats or [0..255] for integers).\n",
            "Clipping input data to the valid range for imshow with RGB data ([0..1] for floats or [0..255] for integers).\n"
          ]
        },
        {
          "output_type": "error",
          "ename": "InvalidArgumentError",
          "evalue": "ignored",
          "traceback": [
            "\u001b[0;31m---------------------------------------------------------------------------\u001b[0m",
            "\u001b[0;31mInvalidArgumentError\u001b[0m                      Traceback (most recent call last)",
            "\u001b[0;32m<ipython-input-124-49e73401db47>\u001b[0m in \u001b[0;36m<module>\u001b[0;34m()\u001b[0m\n\u001b[1;32m      2\u001b[0m     \u001b[0;32mfor\u001b[0m \u001b[0mi\u001b[0m \u001b[0;32min\u001b[0m \u001b[0mrange\u001b[0m\u001b[0;34m(\u001b[0m\u001b[0;36m9\u001b[0m\u001b[0;34m)\u001b[0m\u001b[0;34m:\u001b[0m\u001b[0;34m\u001b[0m\u001b[0;34m\u001b[0m\u001b[0m\n\u001b[1;32m      3\u001b[0m         \u001b[0max\u001b[0m \u001b[0;34m=\u001b[0m \u001b[0mplt\u001b[0m\u001b[0;34m.\u001b[0m\u001b[0msubplot\u001b[0m\u001b[0;34m(\u001b[0m\u001b[0;36m3\u001b[0m\u001b[0;34m,\u001b[0m \u001b[0;36m3\u001b[0m\u001b[0;34m,\u001b[0m \u001b[0mi\u001b[0m \u001b[0;34m+\u001b[0m \u001b[0;36m1\u001b[0m\u001b[0;34m)\u001b[0m\u001b[0;34m\u001b[0m\u001b[0;34m\u001b[0m\u001b[0m\n\u001b[0;32m----> 4\u001b[0;31m         \u001b[0mplt\u001b[0m\u001b[0;34m.\u001b[0m\u001b[0mimshow\u001b[0m\u001b[0;34m(\u001b[0m\u001b[0mimages\u001b[0m\u001b[0;34m[\u001b[0m\u001b[0mi\u001b[0m\u001b[0;34m]\u001b[0m\u001b[0;34m.\u001b[0m\u001b[0mnumpy\u001b[0m\u001b[0;34m(\u001b[0m\u001b[0;34m)\u001b[0m\u001b[0;34m)\u001b[0m\u001b[0;34m\u001b[0m\u001b[0;34m\u001b[0m\u001b[0m\n\u001b[0m\u001b[1;32m      5\u001b[0m         \u001b[0mplt\u001b[0m\u001b[0;34m.\u001b[0m\u001b[0mtitle\u001b[0m\u001b[0;34m(\u001b[0m\u001b[0mint\u001b[0m\u001b[0;34m(\u001b[0m\u001b[0mlabels\u001b[0m\u001b[0;34m[\u001b[0m\u001b[0mi\u001b[0m\u001b[0;34m]\u001b[0m\u001b[0;34m)\u001b[0m\u001b[0;34m)\u001b[0m\u001b[0;34m\u001b[0m\u001b[0;34m\u001b[0m\u001b[0m\n\u001b[1;32m      6\u001b[0m         \u001b[0mplt\u001b[0m\u001b[0;34m.\u001b[0m\u001b[0maxis\u001b[0m\u001b[0;34m(\u001b[0m\u001b[0;34m\"off\"\u001b[0m\u001b[0;34m)\u001b[0m\u001b[0;34m\u001b[0m\u001b[0;34m\u001b[0m\u001b[0m\n",
            "\u001b[0;32m/usr/local/lib/python3.7/dist-packages/tensorflow/python/util/traceback_utils.py\u001b[0m in \u001b[0;36merror_handler\u001b[0;34m(*args, **kwargs)\u001b[0m\n\u001b[1;32m    151\u001b[0m     \u001b[0;32mexcept\u001b[0m \u001b[0mException\u001b[0m \u001b[0;32mas\u001b[0m \u001b[0me\u001b[0m\u001b[0;34m:\u001b[0m\u001b[0;34m\u001b[0m\u001b[0;34m\u001b[0m\u001b[0m\n\u001b[1;32m    152\u001b[0m       \u001b[0mfiltered_tb\u001b[0m \u001b[0;34m=\u001b[0m \u001b[0m_process_traceback_frames\u001b[0m\u001b[0;34m(\u001b[0m\u001b[0me\u001b[0m\u001b[0;34m.\u001b[0m\u001b[0m__traceback__\u001b[0m\u001b[0;34m)\u001b[0m\u001b[0;34m\u001b[0m\u001b[0;34m\u001b[0m\u001b[0m\n\u001b[0;32m--> 153\u001b[0;31m       \u001b[0;32mraise\u001b[0m \u001b[0me\u001b[0m\u001b[0;34m.\u001b[0m\u001b[0mwith_traceback\u001b[0m\u001b[0;34m(\u001b[0m\u001b[0mfiltered_tb\u001b[0m\u001b[0;34m)\u001b[0m \u001b[0;32mfrom\u001b[0m \u001b[0;32mNone\u001b[0m\u001b[0;34m\u001b[0m\u001b[0;34m\u001b[0m\u001b[0m\n\u001b[0m\u001b[1;32m    154\u001b[0m     \u001b[0;32mfinally\u001b[0m\u001b[0;34m:\u001b[0m\u001b[0;34m\u001b[0m\u001b[0;34m\u001b[0m\u001b[0m\n\u001b[1;32m    155\u001b[0m       \u001b[0;32mdel\u001b[0m \u001b[0mfiltered_tb\u001b[0m\u001b[0;34m\u001b[0m\u001b[0;34m\u001b[0m\u001b[0m\n",
            "\u001b[0;32m/usr/local/lib/python3.7/dist-packages/tensorflow/python/framework/ops.py\u001b[0m in \u001b[0;36mraise_from_not_ok_status\u001b[0;34m(e, name)\u001b[0m\n\u001b[1;32m   7105\u001b[0m \u001b[0;32mdef\u001b[0m \u001b[0mraise_from_not_ok_status\u001b[0m\u001b[0;34m(\u001b[0m\u001b[0me\u001b[0m\u001b[0;34m,\u001b[0m \u001b[0mname\u001b[0m\u001b[0;34m)\u001b[0m\u001b[0;34m:\u001b[0m\u001b[0;34m\u001b[0m\u001b[0;34m\u001b[0m\u001b[0m\n\u001b[1;32m   7106\u001b[0m   \u001b[0me\u001b[0m\u001b[0;34m.\u001b[0m\u001b[0mmessage\u001b[0m \u001b[0;34m+=\u001b[0m \u001b[0;34m(\u001b[0m\u001b[0;34m\" name: \"\u001b[0m \u001b[0;34m+\u001b[0m \u001b[0mname\u001b[0m \u001b[0;32mif\u001b[0m \u001b[0mname\u001b[0m \u001b[0;32mis\u001b[0m \u001b[0;32mnot\u001b[0m \u001b[0;32mNone\u001b[0m \u001b[0;32melse\u001b[0m \u001b[0;34m\"\"\u001b[0m\u001b[0;34m)\u001b[0m\u001b[0;34m\u001b[0m\u001b[0;34m\u001b[0m\u001b[0m\n\u001b[0;32m-> 7107\u001b[0;31m   \u001b[0;32mraise\u001b[0m \u001b[0mcore\u001b[0m\u001b[0;34m.\u001b[0m\u001b[0m_status_to_exception\u001b[0m\u001b[0;34m(\u001b[0m\u001b[0me\u001b[0m\u001b[0;34m)\u001b[0m \u001b[0;32mfrom\u001b[0m \u001b[0;32mNone\u001b[0m  \u001b[0;31m# pylint: disable=protected-access\u001b[0m\u001b[0;34m\u001b[0m\u001b[0;34m\u001b[0m\u001b[0m\n\u001b[0m\u001b[1;32m   7108\u001b[0m \u001b[0;34m\u001b[0m\u001b[0m\n\u001b[1;32m   7109\u001b[0m \u001b[0;34m\u001b[0m\u001b[0m\n",
            "\u001b[0;31mInvalidArgumentError\u001b[0m: slice index 8 of dimension 0 out of bounds. [Op:StridedSlice] name: strided_slice/"
          ]
        },
        {
          "output_type": "display_data",
          "data": {
            "image/png": "[encoded data removed]",
            "text/plain": [
              "<Figure size 432x288 with 9 Axes>"
            ]
          },
          "metadata": {
            "needs_background": "light"
          }
        }
      ]
    },
    {
      "cell_type": "code",
      "metadata": {
        "id": "FA-_V73glrp0"
      },
      "source": [
        "model = keras.Sequential(\n",
        "    [\n",
        "        layers.Input(shape=(128, 128, 3)),\n",
        "        layers.Conv2D(128, 3, activation='relu'),\n",
        "        layers.MaxPooling2D(),\n",
        "        layers.Conv2D(256, 3,activation='relu'),\n",
        "        layers.MaxPooling2D(),\n",
        "        layers.Flatten(),\n",
        "        layers.Dense(64,activation='relu'),\n",
        "        layers.Dense(3,activation='sigmoid')\n",
        "    ]\n",
        ")"
      ],
      "execution_count": 111,
      "outputs": []
    },
    {
      "cell_type": "code",
      "metadata": {
        "id": "iRNyH4sHmzHW"
      },
      "source": [
        "model.compile(optimizer=keras.optimizers.Adam(learning_rate=0.0001), loss='sparse_categorical_crossentropy', metrics=['accuracy'])\n"
      ],
      "execution_count": 112,
      "outputs": []
    },
    {
      "cell_type": "code",
      "metadata": {
        "colab": {
          "base_uri": "https://localhost:8080/"
        },
        "id": "L4MG5RxWm28f",
        "outputId": "bfec1e29-9d2e-4d5e-a3cb-5ddeff1e72bd"
      },
      "source": [
        "model.summary()\n"
      ],
      "execution_count": 113,
      "outputs": [
        {
          "output_type": "stream",
          "name": "stdout",
          "text": [
            "Model: \"sequential_10\"\n",
            "_________________________________________________________________\n",
            " Layer (type)                Output Shape              Param #   \n",
            "=================================================================\n",
            " conv2d_26 (Conv2D)          (None, 126, 126, 128)     3584      \n",
            "                                                                 \n",
            " max_pooling2d_25 (MaxPoolin  (None, 63, 63, 128)      0         \n",
            " g2D)                                                            \n",
            "                                                                 \n",
            " conv2d_27 (Conv2D)          (None, 61, 61, 256)       295168    \n",
            "                                                                 \n",
            " max_pooling2d_26 (MaxPoolin  (None, 30, 30, 256)      0         \n",
            " g2D)                                                            \n",
            "                                                                 \n",
            " flatten_10 (Flatten)        (None, 230400)            0         \n",
            "                                                                 \n",
            " dense_12 (Dense)            (None, 64)                14745664  \n",
            "                                                                 \n",
            " dense_13 (Dense)            (None, 3)                 195       \n",
            "                                                                 \n",
            "=================================================================\n",
            "Total params: 15,044,611\n",
            "Trainable params: 15,044,611\n",
            "Non-trainable params: 0\n",
            "_________________________________________________________________\n"
          ]
        }
      ]
    },
    {
      "cell_type": "code",
      "metadata": {
        "colab": {
          "base_uri": "https://localhost:8080/"
        },
        "id": "sfgwOUwQm8O5",
        "outputId": "c14f3b88-3055-4eb9-b5fb-90636a4d2734"
      },
      "source": [
        "history = model.fit(ds_train, epochs=10,verbose=2,validation_data= ds_validation)"
      ],
      "execution_count": 114,
      "outputs": [
        {
          "output_type": "stream",
          "name": "stdout",
          "text": [
            "Epoch 1/10\n",
            "31/31 - 60s - loss: 66.8666 - accuracy: 0.3984 - val_loss: 5.0547 - val_accuracy: 0.5500 - 60s/epoch - 2s/step\n",
            "Epoch 2/10\n",
            "31/31 - 59s - loss: 0.5601 - accuracy: 0.8699 - val_loss: 1.6780 - val_accuracy: 0.8250 - 59s/epoch - 2s/step\n",
            "Epoch 3/10\n",
            "31/31 - 60s - loss: 0.0705 - accuracy: 0.9797 - val_loss: 1.5215 - val_accuracy: 0.7250 - 60s/epoch - 2s/step\n",
            "Epoch 4/10\n",
            "31/31 - 59s - loss: 0.0087 - accuracy: 1.0000 - val_loss: 1.3949 - val_accuracy: 0.8500 - 59s/epoch - 2s/step\n",
            "Epoch 5/10\n",
            "31/31 - 59s - loss: 0.0015 - accuracy: 1.0000 - val_loss: 1.4504 - val_accuracy: 0.8500 - 59s/epoch - 2s/step\n",
            "Epoch 6/10\n",
            "31/31 - 60s - loss: 8.1456e-04 - accuracy: 1.0000 - val_loss: 1.4564 - val_accuracy: 0.8500 - 60s/epoch - 2s/step\n",
            "Epoch 7/10\n",
            "31/31 - 60s - loss: 5.3862e-04 - accuracy: 1.0000 - val_loss: 1.4726 - val_accuracy: 0.8500 - 60s/epoch - 2s/step\n",
            "Epoch 8/10\n",
            "31/31 - 60s - loss: 3.1826e-04 - accuracy: 1.0000 - val_loss: 1.5395 - val_accuracy: 0.8500 - 60s/epoch - 2s/step\n",
            "Epoch 9/10\n",
            "31/31 - 59s - loss: 1.4382e-04 - accuracy: 1.0000 - val_loss: 1.6287 - val_accuracy: 0.8500 - 59s/epoch - 2s/step\n",
            "Epoch 10/10\n",
            "31/31 - 59s - loss: 6.8150e-05 - accuracy: 1.0000 - val_loss: 1.6945 - val_accuracy: 0.8250 - 59s/epoch - 2s/step\n"
          ]
        }
      ]
    },
    {
      "cell_type": "code",
      "metadata": {
        "colab": {
          "base_uri": "https://localhost:8080/",
          "height": 296
        },
        "id": "E9SB3MEZOHdg",
        "outputId": "a7c76e1e-7b3b-49bd-914c-baab67ad5553"
      },
      "source": [
        "plt.plot(history.history['accuracy'], label='accuracy')\n",
        "plt.plot(history.history['val_accuracy'], label = 'val_accuracy')\n",
        "plt.xlabel('Epoch')\n",
        "plt.ylabel('Accuracy')\n",
        "plt.ylim([0.4, 1.5])\n",
        "plt.legend(loc='lower right')"
      ],
      "execution_count": 121,
      "outputs": [
        {
          "output_type": "execute_result",
          "data": {
            "text/plain": [
              "<matplotlib.legend.Legend at 0x7faaea436590>"
            ]
          },
          "metadata": {},
          "execution_count": 121
        },
        {
          "output_type": "display_data",
          "data": {
            "image/png": "[encoded data removed]",
            "text/plain": [
              "<Figure size 432x288 with 1 Axes>"
            ]
          },
          "metadata": {
            "needs_background": "light"
          }
        }
      ]
    },
    {
      "cell_type": "code",
      "metadata": {
        "colab": {
          "base_uri": "https://localhost:8080/"
        },
        "id": "1GQKOpsDOXzk",
        "outputId": "5e2e4236-2f21-42b8-a110-1f4cce39bf76"
      },
      "source": [
        "\n",
        "img_data = image.load_img('/content/images/00000043.jpeg', target_size = (128, 128))   #load the image from the directory\n",
        "img_data = image.img_to_array(img_data)                            #convert the image to a Numpy array\n",
        "img_data = np.expand_dims(img_data, axis = 0)                     #expands the array by inserting a new axis at the specified position.\n",
        "\n",
        "classify = model.predict(img_data)\n",
        "print(classify[0])\n",
        "if(classify[0][0]>classify[0][1] and classify[0][0]>classify[0][2]):\n",
        "  print('black bear')\n",
        "if(classify[0][1]>classify[0][2] and classify[0][1]>classify[0][0]):\n",
        "  print('grizzly bear')\n",
        "if(classify[0][2]>classify[0][1] and classify[0][2]>classify[0][0]):\n",
        "  print('teddy bear')"
      ],
      "execution_count": 137,
      "outputs": [
        {
          "output_type": "stream",
          "name": "stdout",
          "text": [
            "[1.3514650e-08 9.9811375e-01 1.0000000e+00]\n",
            "teddy bear\n"
          ]
        }
      ]
    },
    {
      "cell_type": "code",
      "metadata": {
        "colab": {
          "base_uri": "https://localhost:8080/"
        },
        "id": "k7GPmPEbbJfl",
        "outputId": "dc16bfbb-b481-4618-b737-90822ed76988"
      },
      "source": [
        "img_data = image.load_img('/content/images/test.png', target_size = (128, 128))   #load the image from the directory\n",
        "img_data = image.img_to_array(img_data)                            #convert the image to a Numpy array\n",
        "img_data = np.expand_dims(img_data, axis = 0)                     #expands the array by inserting a new axis at the specified position.\n",
        "\n",
        "classify = model.predict(img_data)\n",
        "print(classify[0])\n",
        "if(classify[0][0]>classify[0][1] and classify[0][0]>classify[0][2]):\n",
        "  print('black bear')\n",
        "if(classify[0][1]>classify[0][2] and classify[0][1]>classify[0][0]):\n",
        "  print('grizzly bear')\n",
        "if(classify[0][2]>classify[0][1] and classify[0][2]>classify[0][0]):\n",
        "  print('teddy bear')"
      ],
      "execution_count": 138,
      "outputs": [
        {
          "output_type": "stream",
          "name": "stdout",
          "text": [
            "[6.9121456e-01 9.9912870e-01 2.0489097e-04]\n",
            "grizzly bear\n"
          ]
        }
      ]
    }
  ]
}